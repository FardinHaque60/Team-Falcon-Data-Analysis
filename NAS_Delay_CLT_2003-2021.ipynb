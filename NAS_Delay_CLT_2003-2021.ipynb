{
 "cells": [
  {
   "cell_type": "markdown",
   "metadata": {},
   "source": [
    "# NAS Delay in Charlotte Douglas International Airport"
   ]
  },
  {
   "cell_type": "code",
   "execution_count": 1,
   "metadata": {},
   "outputs": [],
   "source": [
    "import csv \n",
    "\n",
    "with open('CLT_Data.csv') as csvfile:\n",
    "    CLT_Data = list(csv.DictReader(csvfile))"
   ]
  },
  {
   "cell_type": "markdown",
   "metadata": {},
   "source": [
    "## Iterating through data to create dictionary:"
   ]
  },
  {
   "cell_type": "code",
   "execution_count": 2,
   "metadata": {},
   "outputs": [],
   "source": [
    "temp_list1 = []\n",
    "temp_list2 = []\n",
    "for n in range(0, len(CLT_Data)):\n",
    "    temp_dict = CLT_Data[n]\n",
    "    temp_list1.append(int(temp_dict[\"year\"]))\n",
    "    try:\n",
    "        temp_list2.append(float(temp_dict[\"nas_delay\"]))\n",
    "    except ValueError:\n",
    "        temp_list2.append(None)"
   ]
  },
  {
   "cell_type": "markdown",
   "metadata": {},
   "source": [
    "## Putting dictionary in pandas datatable:"
   ]
  },
  {
   "cell_type": "code",
   "execution_count": 3,
   "metadata": {},
   "outputs": [],
   "source": [
    "import numpy as np\n",
    "import pandas as pd\n",
    "import matplotlib.pyplot as plt\n",
    "%matplotlib inline"
   ]
  },
  {
   "cell_type": "code",
   "execution_count": 4,
   "metadata": {},
   "outputs": [
    {
     "data": {
      "text/html": [
       "<div>\n",
       "<style scoped>\n",
       "    .dataframe tbody tr th:only-of-type {\n",
       "        vertical-align: middle;\n",
       "    }\n",
       "\n",
       "    .dataframe tbody tr th {\n",
       "        vertical-align: top;\n",
       "    }\n",
       "\n",
       "    .dataframe thead th {\n",
       "        text-align: right;\n",
       "    }\n",
       "</style>\n",
       "<table border=\"1\" class=\"dataframe\">\n",
       "  <thead>\n",
       "    <tr style=\"text-align: right;\">\n",
       "      <th></th>\n",
       "      <th>year</th>\n",
       "      <th>nas_delay</th>\n",
       "    </tr>\n",
       "  </thead>\n",
       "  <tbody>\n",
       "    <tr>\n",
       "      <th>0</th>\n",
       "      <td>2009</td>\n",
       "      <td>187.0</td>\n",
       "    </tr>\n",
       "    <tr>\n",
       "      <th>1</th>\n",
       "      <td>2009</td>\n",
       "      <td>300.0</td>\n",
       "    </tr>\n",
       "    <tr>\n",
       "      <th>2</th>\n",
       "      <td>2009</td>\n",
       "      <td>765.0</td>\n",
       "    </tr>\n",
       "    <tr>\n",
       "      <th>3</th>\n",
       "      <td>2009</td>\n",
       "      <td>20.0</td>\n",
       "    </tr>\n",
       "    <tr>\n",
       "      <th>4</th>\n",
       "      <td>2009</td>\n",
       "      <td>597.0</td>\n",
       "    </tr>\n",
       "    <tr>\n",
       "      <th>...</th>\n",
       "      <td>...</td>\n",
       "      <td>...</td>\n",
       "    </tr>\n",
       "    <tr>\n",
       "      <th>2461</th>\n",
       "      <td>2018</td>\n",
       "      <td>1399.0</td>\n",
       "    </tr>\n",
       "    <tr>\n",
       "      <th>2462</th>\n",
       "      <td>2018</td>\n",
       "      <td>715.0</td>\n",
       "    </tr>\n",
       "    <tr>\n",
       "      <th>2463</th>\n",
       "      <td>2018</td>\n",
       "      <td>12201.0</td>\n",
       "    </tr>\n",
       "    <tr>\n",
       "      <th>2464</th>\n",
       "      <td>2018</td>\n",
       "      <td>506.0</td>\n",
       "    </tr>\n",
       "    <tr>\n",
       "      <th>2465</th>\n",
       "      <td>2018</td>\n",
       "      <td>746.0</td>\n",
       "    </tr>\n",
       "  </tbody>\n",
       "</table>\n",
       "<p>2466 rows × 2 columns</p>\n",
       "</div>"
      ],
      "text/plain": [
       "      year  nas_delay\n",
       "0     2009      187.0\n",
       "1     2009      300.0\n",
       "2     2009      765.0\n",
       "3     2009       20.0\n",
       "4     2009      597.0\n",
       "...    ...        ...\n",
       "2461  2018     1399.0\n",
       "2462  2018      715.0\n",
       "2463  2018    12201.0\n",
       "2464  2018      506.0\n",
       "2465  2018      746.0\n",
       "\n",
       "[2466 rows x 2 columns]"
      ]
     },
     "execution_count": 4,
     "metadata": {},
     "output_type": "execute_result"
    }
   ],
   "source": [
    "dict_data = {\"year\": temp_list1,\n",
    "            \"nas_delay\": temp_list2}\n",
    "\n",
    "usable_data = pd.DataFrame(data=dict_data)\n",
    "usable_data"
   ]
  },
  {
   "cell_type": "markdown",
   "metadata": {},
   "source": [
    "## Plotting data using matplotlibs:"
   ]
  },
  {
   "cell_type": "code",
   "execution_count": 5,
   "metadata": {},
   "outputs": [],
   "source": [
    "x = usable_data.year\n",
    "y = usable_data.nas_delay"
   ]
  },
  {
   "cell_type": "code",
   "execution_count": 6,
   "metadata": {},
   "outputs": [
    {
     "data": {
      "text/plain": [
       "([<matplotlib.axis.XTick at 0x7fc4610a8460>,\n",
       "  <matplotlib.axis.XTick at 0x7fc4610a8430>,\n",
       "  <matplotlib.axis.XTick at 0x7fc4610a50a0>,\n",
       "  <matplotlib.axis.XTick at 0x7fc4610fb1f0>,\n",
       "  <matplotlib.axis.XTick at 0x7fc4610fb700>,\n",
       "  <matplotlib.axis.XTick at 0x7fc4610fbc10>,\n",
       "  <matplotlib.axis.XTick at 0x7fc461100160>,\n",
       "  <matplotlib.axis.XTick at 0x7fc461100670>,\n",
       "  <matplotlib.axis.XTick at 0x7fc461100b80>,\n",
       "  <matplotlib.axis.XTick at 0x7fc4611070d0>],\n",
       " <a list of 10 Text major ticklabel objects>)"
      ]
     },
     "execution_count": 6,
     "metadata": {},
     "output_type": "execute_result"
    },
    {
     "data": {
      "image/png": "[encoded data removed]",
      "text/plain": [
       "<Figure size 432x288 with 1 Axes>"
      ]
     },
     "metadata": {
      "needs_background": "light"
     },
     "output_type": "display_data"
    }
   ],
   "source": [
    "plt.scatter(x,y, marker=\"o\", alpha=0.4, s=20)\n",
    "plt.xlabel(\"Y e a r\")\n",
    "plt.ylabel(\"D e l a y (min)\")\n",
    "plt.ylim(0,140000)\n",
    "plt.xticks(np.arange(min(x), max(x)+1, 2.0))"
   ]
  },
  {
   "cell_type": "code",
   "execution_count": 7,
   "metadata": {},
   "outputs": [
    {
     "data": {
      "text/plain": [
       "([<matplotlib.axis.XTick at 0x7fc46122a9a0>,\n",
       "  <matplotlib.axis.XTick at 0x7fc46122a790>,\n",
       "  <matplotlib.axis.XTick at 0x7fc461223d00>,\n",
       "  <matplotlib.axis.XTick at 0x7fc4612564c0>,\n",
       "  <matplotlib.axis.XTick at 0x7fc4612569d0>,\n",
       "  <matplotlib.axis.XTick at 0x7fc461256ee0>,\n",
       "  <matplotlib.axis.XTick at 0x7fc46125a430>,\n",
       "  <matplotlib.axis.XTick at 0x7fc46125a940>],\n",
       " <a list of 8 Text major ticklabel objects>)"
      ]
     },
     "execution_count": 7,
     "metadata": {},
     "output_type": "execute_result"
    },
    {
     "data": {
      "image/png": "[encoded data removed]",
      "text/plain": [
       "<Figure size 432x288 with 2 Axes>"
      ]
     },
     "metadata": {
      "needs_background": "light"
     },
     "output_type": "display_data"
    }
   ],
   "source": [
    "plt.subplot(211)\n",
    "plt.scatter(x,y, marker=\"o\", alpha=0.4, s=20)\n",
    "plt.ylim(10000,50000)\n",
    "plt.xlim(2015,)\n",
    "plt.ylabel(\"D e l a y (min)\")\n",
    "plt.xticks(np.arange(2012, 2020, 1.0))\n",
    "#top half (recent years)\n",
    "\n",
    "plt.subplot(212)\n",
    "plt.scatter(x,y, marker=\"o\", alpha=0.4, s=20)\n",
    "plt.ylim(0,10000)\n",
    "plt.xlim(2015,)\n",
    "plt.xlabel(\"Y e a r\")\n",
    "plt.ylabel(\"D e l a y (min)\")\n",
    "plt.xticks(np.arange(2012, 2020, 1.0))\n",
    "#bottom half (recent years)"
   ]
  }
 ],
 "metadata": {
  "kernelspec": {
   "display_name": "Python 3",
   "language": "python",
   "name": "python3"
  },
  "language_info": {
   "codemirror_mode": {
    "name": "ipython",
    "version": 3
   },
   "file_extension": ".py",
   "mimetype": "text/x-python",
   "name": "python",
   "nbconvert_exporter": "python",
   "pygments_lexer": "ipython3",
   "version": "3.8.3"
  }
 },
 "nbformat": 4,
 "nbformat_minor": 4
}
